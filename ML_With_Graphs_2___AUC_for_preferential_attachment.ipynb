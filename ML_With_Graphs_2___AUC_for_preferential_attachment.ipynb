{
  "nbformat": 4,
  "nbformat_minor": 0,
  "metadata": {
    "colab": {
      "provenance": [],
      "authorship_tag": "ABX9TyMKWEELGJT5jBZZKwo67izy",
      "include_colab_link": true
    },
    "kernelspec": {
      "name": "python3",
      "display_name": "Python 3"
    },
    "language_info": {
      "name": "python"
    }
  },
  "cells": [
    {
      "cell_type": "markdown",
      "metadata": {
        "id": "view-in-github",
        "colab_type": "text"
      },
      "source": [
        "<a href=\"https://colab.research.google.com/github/hemanthkumar17/Graph_Machine_Learning/blob/main/ML_With_Graphs_2___AUC_for_preferential_attachment.ipynb\" target=\"_parent\"><img src=\"https://colab.research.google.com/assets/colab-badge.svg\" alt=\"Open In Colab\"/></a>"
      ]
    },
    {
      "cell_type": "markdown",
      "source": [
        "# ML with Graph - Assignment 2\n",
        "#### By Hemanth Kumar Jayakumar"
      ],
      "metadata": {
        "id": "q1U3nkFS0w1s"
      }
    },
    {
      "cell_type": "code",
      "execution_count": null,
      "metadata": {
        "id": "GnMTs8zd_qok"
      },
      "outputs": [],
      "source": [
        "import networkx as nx\n",
        "G = nx.Graph()"
      ]
    },
    {
      "cell_type": "code",
      "source": [
        "G.add_edges_from(\n",
        "    [[1, 2],\n",
        "    [1, 3],\n",
        "    [1, 4],\n",
        "    [5, 6],\n",
        "    [5, 7],\n",
        "    [5, 8],\n",
        "    [9, 10],\n",
        "    [9, 11],\n",
        "    [9, 12]]\n",
        ")"
      ],
      "metadata": {
        "id": "ROMnjUN5_6p2"
      },
      "execution_count": null,
      "outputs": []
    },
    {
      "cell_type": "code",
      "source": [
        "nx.draw(G, with_labels=True)"
      ],
      "metadata": {
        "colab": {
          "base_uri": "https://localhost:8080/",
          "height": 319
        },
        "id": "YlwzSCk5AJgP",
        "outputId": "d8a81395-e4bb-4269-80a1-171621f48231"
      },
      "execution_count": null,
      "outputs": [
        {
          "output_type": "display_data",
          "data": {
            "text/plain": [
              "<Figure size 432x288 with 1 Axes>"
            ],
            "image/png": "[encoded data removed]"
          },
          "metadata": {}
        }
      ]
    },
    {
      "cell_type": "code",
      "source": [
        "pref= nx.preferential_attachment(G)\n",
        "pred = {}\n",
        "for u, v, score in pref:\n",
        "    pred[(u, v)] = score"
      ],
      "metadata": {
        "id": "weNR332HRNF5"
      },
      "execution_count": null,
      "outputs": []
    },
    {
      "cell_type": "markdown",
      "source": [
        "For Graph a where ground truth only has 1 edge prediction"
      ],
      "metadata": {
        "id": "U41rj32NlJU6"
      }
    },
    {
      "cell_type": "code",
      "source": [
        "true = {}\n",
        "for u in G.nodes:\n",
        "    for v in G.nodes:\n",
        "        if u != v:\n",
        "            true[(u, v)] = 0\n",
        "true[(1, 9)] = 1\n",
        "y_pred = []\n",
        "y_true = []\n",
        "for key in pred:\n",
        "    y_true.append(true[key])\n",
        "    y_pred.append(pred[key])\n",
        "# y_pred = [y / sum(y_pred) for y in y_pred]\n",
        "# y_true = [y / sum(y_true) for y in y_true]"
      ],
      "metadata": {
        "id": "2MHdICV6hn_E"
      },
      "execution_count": null,
      "outputs": []
    },
    {
      "cell_type": "code",
      "source": [
        "from sklearn import metrics"
      ],
      "metadata": {
        "id": "G1w4syoE-9cn"
      },
      "execution_count": null,
      "outputs": []
    },
    {
      "cell_type": "code",
      "source": [
        "metrics.RocCurveDisplay.from_predictions(y_true, y_pred)\n",
        "fpr, tpr, thresholds = metrics.roc_curve(y_true, y_pred)\n",
        "auc1 = metrics.auc(fpr, tpr)"
      ],
      "metadata": {
        "id": "TciMDS7IAX4K",
        "colab": {
          "base_uri": "https://localhost:8080/",
          "height": 279
        },
        "outputId": "1867adaa-08ab-49a3-b500-d22d01d35242"
      },
      "execution_count": null,
      "outputs": [
        {
          "output_type": "display_data",
          "data": {
            "text/plain": [
              "<Figure size 432x288 with 1 Axes>"
            ],
            "image/png": "[encoded data removed]"
          },
          "metadata": {
            "needs_background": "light"
          }
        }
      ]
    },
    {
      "cell_type": "markdown",
      "source": [
        "For Graph b where 2 edges are being predicted at once"
      ],
      "metadata": {
        "id": "QAZJ1ec3lRs9"
      }
    },
    {
      "cell_type": "code",
      "source": [
        "true = {}\n",
        "for u in G.nodes:\n",
        "    for v in G.nodes:\n",
        "        if u != v:\n",
        "            true[(u, v)] = 0\n",
        "true[(1, 9)] = 1\n",
        "true[(1, 5)] = 1\n",
        "y_pred = []\n",
        "y_true = []\n",
        "for key in pred:\n",
        "    y_true.append(true[key])\n",
        "    y_pred.append(pred[key])\n",
        "# y_pred = [y / sum(y_pred) for y in y_pred]\n",
        "# y_true = [y / sum(y_true) for y in y_true]"
      ],
      "metadata": {
        "id": "HJzoycdS80Wu"
      },
      "execution_count": null,
      "outputs": []
    },
    {
      "cell_type": "code",
      "source": [
        "metrics.RocCurveDisplay.from_predictions(y_true, y_pred)\n",
        "fpr, tpr, thresholds = metrics.roc_curve(y_true, y_pred)\n",
        "auc2 = metrics.auc(fpr, tpr)"
      ],
      "metadata": {
        "colab": {
          "base_uri": "https://localhost:8080/",
          "height": 279
        },
        "id": "phBwN3ikvP1P",
        "outputId": "bcb36fac-9541-4798-8182-1e4e34ec3a11"
      },
      "execution_count": null,
      "outputs": [
        {
          "output_type": "display_data",
          "data": {
            "text/plain": [
              "<Figure size 432x288 with 1 Axes>"
            ],
            "image/png": "[encoded data removed]"
          },
          "metadata": {
            "needs_background": "light"
          }
        }
      ]
    },
    {
      "cell_type": "code",
      "source": [
        "auc1"
      ],
      "metadata": {
        "id": "7zOVzP8k_wY5",
        "colab": {
          "base_uri": "https://localhost:8080/"
        },
        "outputId": "34f897d1-77fe-4f20-da83-d84e9a90a62b"
      },
      "execution_count": null,
      "outputs": [
        {
          "output_type": "execute_result",
          "data": {
            "text/plain": [
              "0.9821428571428571"
            ]
          },
          "metadata": {},
          "execution_count": 55
        }
      ]
    },
    {
      "cell_type": "code",
      "source": [
        "auc2"
      ],
      "metadata": {
        "colab": {
          "base_uri": "https://localhost:8080/"
        },
        "id": "Hyv8QxqtjyDH",
        "outputId": "98fb0763-c856-4675-8709-6d6cab9c6c21"
      },
      "execution_count": null,
      "outputs": [
        {
          "output_type": "execute_result",
          "data": {
            "text/plain": [
              "0.990909090909091"
            ]
          },
          "metadata": {},
          "execution_count": 85
        }
      ]
    },
    {
      "cell_type": "markdown",
      "source": [
        "There is an increase in auc values implying that AUC is a good evaluation metric for comparing classifiers varying by number of edges per classification."
      ],
      "metadata": {
        "id": "j3ijJfbclaYA"
      }
    }
  ]
}